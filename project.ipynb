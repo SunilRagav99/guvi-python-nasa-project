{
 "cells": [
  {
   "cell_type": "code",
   "execution_count": 3,
   "metadata": {},
   "outputs": [
    {
     "name": "stdout",
     "output_type": "stream",
     "text": [
      "Requirement already satisfied: requests in c:\\users\\sunil\\appdata\\local\\programs\\python\\python311\\lib\\site-packages (2.31.0)\n",
      "Requirement already satisfied: charset-normalizer<4,>=2 in c:\\users\\sunil\\appdata\\local\\programs\\python\\python311\\lib\\site-packages (from requests) (3.2.0)\n",
      "Requirement already satisfied: idna<4,>=2.5 in c:\\users\\sunil\\appdata\\local\\programs\\python\\python311\\lib\\site-packages (from requests) (3.4)\n",
      "Requirement already satisfied: urllib3<3,>=1.21.1 in c:\\users\\sunil\\appdata\\local\\programs\\python\\python311\\lib\\site-packages (from requests) (2.0.4)\n",
      "Requirement already satisfied: certifi>=2017.4.17 in c:\\users\\sunil\\appdata\\local\\programs\\python\\python311\\lib\\site-packages (from requests) (2023.7.22)\n",
      "Note: you may need to restart the kernel to use updated packages.\n"
     ]
    }
   ],
   "source": [
    "pip install requests"
   ]
  },
  {
   "cell_type": "code",
   "execution_count": 5,
   "metadata": {
    "scrolled": true
   },
   "outputs": [
    {
     "name": "stdout",
     "output_type": "stream",
     "text": [
      "Requirement already satisfied: mysql-connector-python in c:\\users\\sunil\\appdata\\local\\programs\\python\\python311\\lib\\site-packages (8.1.0)\n",
      "Requirement already satisfied: protobuf<=4.21.12,>=4.21.1 in c:\\users\\sunil\\appdata\\local\\programs\\python\\python311\\lib\\site-packages (from mysql-connector-python) (4.21.12)\n",
      "Note: you may need to restart the kernel to use updated packages.\n"
     ]
    }
   ],
   "source": [
    "pip install mysql-connector-python"
   ]
  },
  {
   "cell_type": "code",
   "execution_count": 76,
   "metadata": {
    "scrolled": true
   },
   "outputs": [
    {
     "name": "stdout",
     "output_type": "stream",
     "text": [
      "Note: you may need to restart the kernel to use updated packages.\n"
     ]
    },
    {
     "name": "stderr",
     "output_type": "stream",
     "text": [
      "ERROR: Could not find a version that satisfies the requirement json (from versions: none)\n",
      "ERROR: No matching distribution found for json\n"
     ]
    }
   ],
   "source": [
    "pip install json"
   ]
  },
  {
   "cell_type": "code",
   "execution_count": 136,
   "metadata": {},
   "outputs": [
    {
     "name": "stdout",
     "output_type": "stream",
     "text": [
      "Requirement already satisfied: tkcalendar in c:\\users\\sunil\\appdata\\local\\programs\\python\\python311\\lib\\site-packages (1.6.1)Note: you may need to restart the kernel to use updated packages.\n",
      "\n",
      "Requirement already satisfied: babel in c:\\users\\sunil\\appdata\\local\\programs\\python\\python311\\lib\\site-packages (from tkcalendar) (2.12.1)\n"
     ]
    }
   ],
   "source": [
    "pip install tkcalendar"
   ]
  },
  {
   "cell_type": "code",
   "execution_count": 181,
   "metadata": {},
   "outputs": [
    {
     "name": "stdout",
     "output_type": "stream",
     "text": [
      "Collecting datetimeNote: you may need to restart the kernel to use updated packages.\n",
      "\n",
      "  Obtaining dependency information for datetime from https://files.pythonhosted.org/packages/95/88/3b9d4042b396221a132180b392ab2a174031a6fb579f7927f3909fc183a7/DateTime-5.2-py3-none-any.whl.metadata\n",
      "  Downloading DateTime-5.2-py3-none-any.whl.metadata (33 kB)\n",
      "Collecting zope.interface (from datetime)\n",
      "  Downloading zope.interface-6.0-cp311-cp311-win_amd64.whl (204 kB)\n",
      "     ---------------------------------------- 0.0/204.1 kB ? eta -:--:--\n",
      "     ---------------------------------------- 0.0/204.1 kB ? eta -:--:--\n",
      "     ------ --------------------------------- 30.7/204.1 kB ? eta -:--:--\n",
      "     -------------- ---------------------- 81.9/204.1 kB 919.0 kB/s eta 0:00:01\n",
      "     ------------------- ---------------- 112.6/204.1 kB 819.2 kB/s eta 0:00:01\n",
      "     ------------------------- ---------- 143.4/204.1 kB 853.3 kB/s eta 0:00:01\n",
      "     ---------------------------------- - 194.6/204.1 kB 841.6 kB/s eta 0:00:01\n",
      "     ---------------------------------- - 194.6/204.1 kB 841.6 kB/s eta 0:00:01\n",
      "     ------------------------------------ 204.1/204.1 kB 689.8 kB/s eta 0:00:00\n",
      "Collecting pytz (from datetime)\n",
      "  Obtaining dependency information for pytz from https://files.pythonhosted.org/packages/32/4d/aaf7eff5deb402fd9a24a1449a8119f00d74ae9c2efa79f8ef9994261fc2/pytz-2023.3.post1-py2.py3-none-any.whl.metadata\n",
      "  Downloading pytz-2023.3.post1-py2.py3-none-any.whl.metadata (22 kB)\n",
      "Requirement already satisfied: setuptools in c:\\users\\sunil\\appdata\\local\\programs\\python\\python311\\lib\\site-packages (from zope.interface->datetime) (65.5.0)\n",
      "Downloading DateTime-5.2-py3-none-any.whl (52 kB)\n",
      "   ---------------------------------------- 0.0/52.2 kB ? eta -:--:--\n",
      "   ------------------------------- -------- 41.0/52.2 kB 667.8 kB/s eta 0:00:01\n",
      "   ---------------------------------------- 52.2/52.2 kB 677.1 kB/s eta 0:00:00\n",
      "Downloading pytz-2023.3.post1-py2.py3-none-any.whl (502 kB)\n",
      "   ---------------------------------------- 0.0/502.5 kB ? eta -:--:--\n",
      "   --- ----------------------------------- 41.0/502.5 kB 991.0 kB/s eta 0:00:01\n",
      "   ----- --------------------------------- 71.7/502.5 kB 787.7 kB/s eta 0:00:01\n",
      "   -------- ----------------------------- 112.6/502.5 kB 819.2 kB/s eta 0:00:01\n",
      "   ----------- -------------------------- 153.6/502.5 kB 833.5 kB/s eta 0:00:01\n",
      "   -------------- ----------------------- 194.6/502.5 kB 841.6 kB/s eta 0:00:01\n",
      "   --------------- ---------------------- 204.8/502.5 kB 778.2 kB/s eta 0:00:01\n",
      "   -------------------- ----------------- 276.5/502.5 kB 853.3 kB/s eta 0:00:01\n",
      "   ----------------------- -------------- 307.2/502.5 kB 827.2 kB/s eta 0:00:01\n",
      "   ------------------------- ------------ 337.9/502.5 kB 807.1 kB/s eta 0:00:01\n",
      "   --------------------------- ---------- 368.6/502.5 kB 791.2 kB/s eta 0:00:01\n",
      "   ------------------------------ ------- 409.6/502.5 kB 798.7 kB/s eta 0:00:01\n",
      "   ---------------------------------- --- 450.6/502.5 kB 829.2 kB/s eta 0:00:01\n",
      "   -------------------------------------  501.8/502.5 kB 827.5 kB/s eta 0:00:01\n",
      "   -------------------------------------- 502.5/502.5 kB 808.2 kB/s eta 0:00:00\n",
      "Installing collected packages: pytz, zope.interface, datetime\n",
      "Successfully installed datetime-5.2 pytz-2023.3.post1 zope.interface-6.0\n"
     ]
    }
   ],
   "source": [
    "pip install datetime"
   ]
  },
  {
   "cell_type": "code",
   "execution_count": 199,
   "metadata": {},
   "outputs": [
    {
     "name": "stdout",
     "output_type": "stream",
     "text": [
      "<mysql.connector.connection_cext.CMySQLConnection object at 0x000001F9E7F22850>\n"
     ]
    }
   ],
   "source": [
    "import mysql.connector\n",
    "mydb= mysql.connector.connect(\n",
    "  host=\"localhost\",\n",
    "  user=\"root\",\n",
    "  password=\"\",\n",
    "  database='project'\n",
    "  \n",
    ")\n",
    "\n",
    "print(mydb)\n",
    "mycursor = mydb.cursor(buffered=True)"
   ]
  },
  {
   "cell_type": "code",
   "execution_count": 71,
   "metadata": {},
   "outputs": [],
   "source": [
    "mycursor.execute(\"CREATE TABLE project.nasa(image_url VARCHAR(100),title VARCHAR(100),explanation VARCHAR(500),date DATE)\")"
   ]
  },
  {
   "cell_type": "code",
   "execution_count": 279,
   "metadata": {
    "scrolled": true
   },
   "outputs": [],
   "source": [
    "import requests\n",
    "import json\n",
    "import tkinter as tk\n",
    "from tkinter import ttk\n",
    "from tkcalendar import Calendar,DateEntry\n",
    "from datetime import datetime, timedelta\n",
    "\n",
    "master = tk.Tk()\n",
    "master.title(\"NASA\")\n",
    "master.geometry(\"850x300\")\n",
    "\n",
    "def extract_with_pattern(response_text, pattern):\n",
    "    match = re.search(pattern, response_text)\n",
    "    return match.group(1) if match else None\n",
    "\n",
    "def handler():\n",
    "    date_to_be_search = e2.get()\n",
    "    formatted_Date = datetime.strptime(date_to_be_search, \"%m/%d/%y\").strftime(\"%Y-%m-%d\")\n",
    "    temp_date = datetime.strptime(formatted_Date, '%Y-%m-%d')\n",
    "    start_date = temp_date - relativedelta(days=10)\n",
    "    start_date = start_date.strftime(\"%Y-%m-%d\")\n",
    "    data_source = selectoption.get()\n",
    "\n",
    "    api_key = '0N5wm6WqCx3i2FHlcaNeO0QfFRheAzFvx5GaHs9K'\n",
    "    custom_image_url_pattern = r'url\": \"(.*?)\\\"'\n",
    "    custom_title_pattern = r'title\": \"(.*?)\\\"'\n",
    "    custom_explanation_pattern = r'explanation\": \"(.*?)\\\"'\n",
    "    custom_date_pattern = r'date\": \"(.*?)\\\"'\n",
    "\n",
    "    url = f'https://api.nasa.gov/planetary/apod?api_key={api_key}&start_date={start_date}&end_date={formatted_Date}'\n",
    "    response = requests.get(url)\n",
    "    if(response.status_code == 200 and data_source == \"MySql\"):\n",
    "        api_response = response.json()\n",
    "        for i in api_response:\n",
    "            res = str(i)\n",
    "            result = res.replace(\"\\'\",\"\\\"\")\n",
    "            image_url = extract_with_pattern(result, custom_image_url_pattern)\n",
    "            title = extract_with_pattern(result, custom_title_pattern)\n",
    "            explanation = extract_with_pattern(result, custom_explanation_pattern)\n",
    "            date = extract_with_pattern(result, custom_date_pattern)\n",
    "            \n",
    "            sql = \"INSERT INTO project.nasa (image_url, title, explanation, date) VALUES (%s, %s, %s, %s);\"\n",
    "            val = (image_url, title, explanation, date)\n",
    "            mycursor.execute(sql, val)\n",
    "            mydb.commit()\n",
    "            listBox.insert(\"\", \"end\", values=(date, image_url, title, explanation))\n",
    "\n",
    "    elif(response.status_code == 200 and data_source == \"json\"):\n",
    "        api_response_json = response.json()\n",
    "        for i in api_response_json:\n",
    "            res = str(i)\n",
    "            result = res.replace(\"\\'\",\"\\\"\")\n",
    "            \n",
    "            image_url = extract_with_pattern(result, custom_image_url_pattern)\n",
    "            title = extract_with_pattern(result, custom_title_pattern)\n",
    "            explanation = extract_with_pattern(result, custom_explanation_pattern)\n",
    "            date = extract_with_pattern(result, custom_date_pattern)\n",
    "            \n",
    "            filename = formatted_Date + '.json'\n",
    "            with open(filename, 'w') as json_file:\n",
    "                json.dump(api_response_json, json_file, indent=4)\n",
    "            listBox.insert(\"\", \"end\", values=(date, image_url, title, explanation))\n",
    "\n",
    "l2 = tk.Label(master, text = \"Select a date : \")\n",
    "checkboxLabel = tk.Label(master, text = \"Select a Data source : \")\n",
    "selectoption = tk.StringVar()\n",
    "check_button1=tk.Radiobutton(master,text=\"MySQL\",variable=selectoption,value=\"MySql\")\n",
    "check_button2=tk.Radiobutton(master,text=\"JSON\",variable=selectoption,value=\"json\")\n",
    "click_button=tk.Button(master,text=\"Retrive Data\",command=handler)\n",
    "e2 = DateEntry(master ,width=30,bg=\"darkblue\",fg=\"white\",year=2022)\n",
    " \n",
    "l2.grid(row = 0, column = 0)\n",
    "checkboxLabel.grid(row = 1, column = 0)\n",
    "check_button1.grid(row = 1, column = 1)\n",
    "check_button2.grid(row = 2, column = 1)\n",
    "click_button.grid(row = 3, column = 0, pady=0)\n",
    "e2.grid(row = 0, column = 1)\n",
    "\n",
    "cols = ('Date', 'Image URL', 'Title', 'Explanation')\n",
    "listBox = ttk.Treeview(master, columns=cols, show='headings')\n",
    "for col in cols:\n",
    "    listBox.heading(col, text=col)    \n",
    "listBox.grid(row=5, column=0, columnspan=2)\n",
    "\n",
    "master.mainloop()"
   ]
  }
 ],
 "metadata": {
  "kernelspec": {
   "display_name": "Python 3 (ipykernel)",
   "language": "python",
   "name": "python3"
  },
  "language_info": {
   "codemirror_mode": {
    "name": "ipython",
    "version": 3
   },
   "file_extension": ".py",
   "mimetype": "text/x-python",
   "name": "python",
   "nbconvert_exporter": "python",
   "pygments_lexer": "ipython3",
   "version": "3.11.5"
  }
 },
 "nbformat": 4,
 "nbformat_minor": 4
}
