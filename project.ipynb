{
 "cells": [
  {
   "cell_type": "code",
   "execution_count": 3,
   "metadata": {},
   "outputs": [
    {
     "name": "stdout",
     "output_type": "stream",
     "text": [
      "Requirement already satisfied: requests in c:\\users\\sunil\\appdata\\local\\programs\\python\\python311\\lib\\site-packages (2.31.0)\n",
      "Requirement already satisfied: charset-normalizer<4,>=2 in c:\\users\\sunil\\appdata\\local\\programs\\python\\python311\\lib\\site-packages (from requests) (3.2.0)\n",
      "Requirement already satisfied: idna<4,>=2.5 in c:\\users\\sunil\\appdata\\local\\programs\\python\\python311\\lib\\site-packages (from requests) (3.4)\n",
      "Requirement already satisfied: urllib3<3,>=1.21.1 in c:\\users\\sunil\\appdata\\local\\programs\\python\\python311\\lib\\site-packages (from requests) (2.0.4)\n",
      "Requirement already satisfied: certifi>=2017.4.17 in c:\\users\\sunil\\appdata\\local\\programs\\python\\python311\\lib\\site-packages (from requests) (2023.7.22)\n",
      "Note: you may need to restart the kernel to use updated packages.\n"
     ]
    }
   ],
   "source": [
    "pip install requests"
   ]
  },
  {
   "cell_type": "code",
   "execution_count": 5,
   "metadata": {
    "scrolled": true
   },
   "outputs": [
    {
     "name": "stdout",
     "output_type": "stream",
     "text": [
      "Requirement already satisfied: mysql-connector-python in c:\\users\\sunil\\appdata\\local\\programs\\python\\python311\\lib\\site-packages (8.1.0)\n",
      "Requirement already satisfied: protobuf<=4.21.12,>=4.21.1 in c:\\users\\sunil\\appdata\\local\\programs\\python\\python311\\lib\\site-packages (from mysql-connector-python) (4.21.12)\n",
      "Note: you may need to restart the kernel to use updated packages.\n"
     ]
    }
   ],
   "source": [
    "pip install mysql-connector-python"
   ]
  },
  {
   "cell_type": "code",
   "execution_count": 76,
   "metadata": {
    "scrolled": true
   },
   "outputs": [
    {
     "name": "stdout",
     "output_type": "stream",
     "text": [
      "Note: you may need to restart the kernel to use updated packages.\n"
     ]
    },
    {
     "name": "stderr",
     "output_type": "stream",
     "text": [
      "ERROR: Could not find a version that satisfies the requirement json (from versions: none)\n",
      "ERROR: No matching distribution found for json\n"
     ]
    }
   ],
   "source": [
    "pip install json"
   ]
  },
  {
   "cell_type": "code",
   "execution_count": 136,
   "metadata": {},
   "outputs": [
    {
     "name": "stdout",
     "output_type": "stream",
     "text": [
      "Requirement already satisfied: tkcalendar in c:\\users\\sunil\\appdata\\local\\programs\\python\\python311\\lib\\site-packages (1.6.1)Note: you may need to restart the kernel to use updated packages.\n",
      "\n",
      "Requirement already satisfied: babel in c:\\users\\sunil\\appdata\\local\\programs\\python\\python311\\lib\\site-packages (from tkcalendar) (2.12.1)\n"
     ]
    }
   ],
   "source": [
    "pip install tkcalendar"
   ]
  },
  {
   "cell_type": "code",
   "execution_count": 10,
   "metadata": {
    "scrolled": true
   },
   "outputs": [
    {
     "name": "stdout",
     "output_type": "stream",
     "text": [
      "Requirement already satisfied: datetime in c:\\users\\sunil\\appdata\\local\\programs\\python\\python311\\lib\\site-packages (5.2)Note: you may need to restart the kernel to use updated packages.\n",
      "\n",
      "Requirement already satisfied: zope.interface in c:\\users\\sunil\\appdata\\local\\programs\\python\\python311\\lib\\site-packages (from datetime) (6.0)\n",
      "Requirement already satisfied: pytz in c:\\users\\sunil\\appdata\\local\\programs\\python\\python311\\lib\\site-packages (from datetime) (2023.3.post1)\n",
      "Requirement already satisfied: setuptools in c:\\users\\sunil\\appdata\\local\\programs\\python\\python311\\lib\\site-packages (from zope.interface->datetime) (65.5.0)\n"
     ]
    }
   ],
   "source": [
    "pip install datetime"
   ]
  },
  {
   "cell_type": "code",
   "execution_count": 7,
   "metadata": {},
   "outputs": [
    {
     "name": "stdout",
     "output_type": "stream",
     "text": [
      "<mysql.connector.connection_cext.CMySQLConnection object at 0x000001CD3B871C50>\n"
     ]
    }
   ],
   "source": [
    "import mysql.connector\n",
    "mydb= mysql.connector.connect(\n",
    "  host=\"localhost\",\n",
    "  user=\"root\",\n",
    "  password=\"\",\n",
    "  database='project'\n",
    "  \n",
    ")\n",
    "\n",
    "print(mydb)\n",
    "mycursor = mydb.cursor(buffered=True)"
   ]
  },
  {
   "cell_type": "code",
   "execution_count": 71,
   "metadata": {},
   "outputs": [],
   "source": [
    "mycursor.execute(\"CREATE TABLE project.nasa(image_url VARCHAR(100),title VARCHAR(100),explanation VARCHAR(500),date DATE)\")"
   ]
  },
  {
   "cell_type": "code",
   "execution_count": 15,
   "metadata": {
    "scrolled": true
   },
   "outputs": [],
   "source": [
    "import requests\n",
    "import json\n",
    "import tkinter as tk\n",
    "from tkinter import ttk\n",
    "from tkcalendar import Calendar,DateEntry\n",
    "from datetime import datetime, timedelta\n",
    "import re\n",
    "\n",
    "master = tk.Tk()\n",
    "master.title(\"NASA\")\n",
    "master.geometry(\"850x300\")\n",
    "\n",
    "def extract_with_pattern(response_text, pattern):\n",
    "    match = re.search(pattern, response_text)\n",
    "    return match.group(1) if match else None\n",
    "\n",
    "def handler():\n",
    "    date_to_be_search = e2.get()\n",
    "    formatted_Date = datetime.strptime(date_to_be_search, \"%m/%d/%y\").strftime(\"%Y-%m-%d\")\n",
    "    temp_date = datetime.strptime(formatted_Date, '%Y-%m-%d')\n",
    "    start_date = temp_date - timedelta(days=10)\n",
    "    start_date = start_date.strftime(\"%Y-%m-%d\")\n",
    "    data_source = selectoption.get()\n",
    "\n",
    "    api_key = '0N5wm6WqCx3i2FHlcaNeO0QfFRheAzFvx5GaHs9K'\n",
    "    custom_image_url_pattern = r'url\": \"(.*?)\\\"'\n",
    "    custom_title_pattern = r'title\": \"(.*?)\\\"'\n",
    "    custom_explanation_pattern = r'explanation\": \"(.*?)\\\"'\n",
    "    custom_date_pattern = r'date\": \"(.*?)\\\"'\n",
    "\n",
    "    url = f'https://api.nasa.gov/planetary/apod?api_key={api_key}&start_date={start_date}&end_date={formatted_Date}'\n",
    "    response = requests.get(url)\n",
    "    if(response.status_code == 200 and data_source == \"MySql\"):\n",
    "        api_response = response.json()\n",
    "        for i in api_response:\n",
    "            res = str(i)\n",
    "            result = res.replace(\"\\'\",\"\\\"\")\n",
    "            image_url = extract_with_pattern(result, custom_image_url_pattern)\n",
    "            title = extract_with_pattern(result, custom_title_pattern)\n",
    "            explanation = extract_with_pattern(result, custom_explanation_pattern)\n",
    "            date = extract_with_pattern(result, custom_date_pattern)\n",
    "            \n",
    "            sql = \"INSERT INTO project.nasa (image_url, title, explanation, date) VALUES (%s, %s, %s, %s);\"\n",
    "            val = (image_url, title, explanation, date)\n",
    "            mycursor.execute(sql, val)\n",
    "            mydb.commit()\n",
    "            listBox.insert(\"\", \"end\", values=(date, image_url, title, explanation))\n",
    "\n",
    "    elif(response.status_code == 200 and data_source == \"json\"):\n",
    "        api_response_json = response.json()\n",
    "        for i in api_response_json:\n",
    "            res = str(i)\n",
    "            result = res.replace(\"\\'\",\"\\\"\")\n",
    "            \n",
    "            image_url = extract_with_pattern(result, custom_image_url_pattern)\n",
    "            title = extract_with_pattern(result, custom_title_pattern)\n",
    "            explanation = extract_with_pattern(result, custom_explanation_pattern)\n",
    "            date = extract_with_pattern(result, custom_date_pattern)\n",
    "            \n",
    "            filename = formatted_Date + '.json'\n",
    "            with open(filename, 'w') as json_file:\n",
    "                json.dump(api_response_json, json_file, indent=4)\n",
    "            listBox.insert(\"\", \"end\", values=(date, image_url, title, explanation))\n",
    "\n",
    "l2 = tk.Label(master, text = \"Select a date : \")\n",
    "checkboxLabel = tk.Label(master, text = \"Select a Data source : \")\n",
    "selectoption = tk.StringVar()\n",
    "check_button1=tk.Radiobutton(master,text=\"MySQL\",variable=selectoption,value=\"MySql\")\n",
    "check_button2=tk.Radiobutton(master,text=\"JSON\",variable=selectoption,value=\"json\")\n",
    "click_button=tk.Button(master,text=\"Retrive Data\",command=handler)\n",
    "e2 = DateEntry(master ,width=30,bg=\"darkblue\",fg=\"white\",year=2022)\n",
    " \n",
    "l2.grid(row = 0, column = 0)\n",
    "checkboxLabel.grid(row = 1, column = 0)\n",
    "check_button1.grid(row = 1, column = 1)\n",
    "check_button2.grid(row = 2, column = 1)\n",
    "click_button.grid(row = 3, column = 0, pady=0)\n",
    "e2.grid(row = 0, column = 1)\n",
    "\n",
    "cols = ('Date', 'Image URL', 'Title', 'Explanation')\n",
    "listBox = ttk.Treeview(master, columns=cols, show='headings')\n",
    "for col in cols:\n",
    "    listBox.heading(col, text=col)    \n",
    "listBox.grid(row=5, column=0, columnspan=2)\n",
    "\n",
    "master.mainloop()"
   ]
  }
 ],
 "metadata": {
  "kernelspec": {
   "display_name": "Python 3 (ipykernel)",
   "language": "python",
   "name": "python3"
  },
  "language_info": {
   "codemirror_mode": {
    "name": "ipython",
    "version": 3
   },
   "file_extension": ".py",
   "mimetype": "text/x-python",
   "name": "python",
   "nbconvert_exporter": "python",
   "pygments_lexer": "ipython3",
   "version": "3.11.5"
  }
 },
 "nbformat": 4,
 "nbformat_minor": 4
}
